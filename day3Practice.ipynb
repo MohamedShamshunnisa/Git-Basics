{
 "cells": [
  {
   "cell_type": "markdown",
   "metadata": {},
   "source": [
    "# Today Concepts\n",
    "## 16-09-2020\n",
    "### Jupyter Installation\n",
    "\n",
    "-to instal jupyter we have to run a cmd pip install jupyter.\n",
    "-to open jupyter notebook we have to run a cmd in command prompt i.e, jupyter notebook.\n",
    "### Main Heading\n",
    "- #### Sub Heading1\n",
    "     -#### Sub Heading2\n",
    "\n",
    "<h2> I am h2 tag </h2>\n",
    "<p> I am p ag </p>\n",
    "<a href-'python_logo.png'>i am anchor tag </a>\n",
    "\n",
    "\n",
    "<table border=1>\n",
    "    <tr><td>Badulla</td><td>Kadapa</td></tr>\n",
    "    <tr><td>shamshaad</td><td>gudiwada</td></tr>\n",
    "</table>\n",
    "    \n",
    "     \n"
   ]
  },
  {
   "cell_type": "code",
   "execution_count": 5,
   "metadata": {},
   "outputs": [
    {
     "name": "stdout",
     "output_type": "stream",
     "text": [
      "Hii Hello\n",
      "i am using jupyter note book\n",
      "i am from apssdc\n"
     ]
    },
    {
     "data": {
      "text/plain": [
       "11"
      ]
     },
     "execution_count": 5,
     "metadata": {},
     "output_type": "execute_result"
    }
   ],
   "source": [
    "print(\"Hii Hello\")\n",
    "print(\"i am using jupyter note book\")\n",
    "4+7\n",
    "print(\"i am from apssdc\")\n",
    "5+6"
   ]
  },
  {
   "cell_type": "code",
   "execution_count": null,
   "metadata": {},
   "outputs": [],
   "source": []
  }
 ],
 "metadata": {
  "kernelspec": {
   "display_name": "Python 3",
   "language": "python",
   "name": "python3"
  },
  "language_info": {
   "codemirror_mode": {
    "name": "ipython",
    "version": 3
   },
   "file_extension": ".py",
   "mimetype": "text/x-python",
   "name": "python",
   "nbconvert_exporter": "python",
   "pygments_lexer": "ipython3",
   "version": "3.7.8"
  }
 },
 "nbformat": 4,
 "nbformat_minor": 4
}
